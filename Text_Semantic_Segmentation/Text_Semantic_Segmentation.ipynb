{
 "cells": [
  {
   "cell_type": "markdown",
   "metadata": {},
   "source": [
    "## Text_Semantic_Segmentation"
   ]
  },
  {
   "cell_type": "markdown",
   "metadata": {},
   "source": [
    "Segment Text based on the content using python nltk module **\"Texttiling\"**"
   ]
  },
  {
   "cell_type": "code",
   "execution_count": 2,
   "metadata": {},
   "outputs": [],
   "source": [
    "#Import modules\n",
    "import re\n",
    "import os\n",
    "import sys\n",
    "import random\n",
    "import numpy as np\n",
    "import os\n",
    "import glob\n",
    "from tika import parser\n",
    "from nltk.corpus import brown\n",
    "from nltk.stem.wordnet import WordNetLemmatizer\n",
    "from nltk.corpus import stopwords\n",
    "from nltk.tokenize import TextTilingTokenizer"
   ]
  },
  {
   "cell_type": "code",
   "execution_count": 1,
   "metadata": {},
   "outputs": [],
   "source": [
    "#Text_doc = 'D:/Shakthi/Projects/ML Task9_Lease_Extraction/Script&Models/TextTiling/sample.txt'\n",
    "Text_doc = \"Sample_Text.txt\""
   ]
  },
  {
   "cell_type": "code",
   "execution_count": 3,
   "metadata": {},
   "outputs": [],
   "source": [
    "with open(Text_doc, 'r' ) as f :\n",
    "    f_cnt = f.readlines()\n",
    "text = ' '.join(f_cnt)"
   ]
  },
  {
   "cell_type": "code",
   "execution_count": 4,
   "metadata": {},
   "outputs": [
    {
     "data": {
      "text/plain": [
       "'Chemical reaction, a process in which one or more substances, the reactants, are converted to one or more different substances, the products. Substances are either chemical elements or compounds. A chemical reaction rearranges the constituent atoms of the reactants to create different substances as products.\\n \\n Chemical reactions are an integral part of technology, of culture, and indeed of life itself. Burning fuels, smelting iron, making glass and pottery, brewing beer, and making wine and cheese are among many examples of activities incorporating chemical reactions that have been known and used for thousands of years. Chemical reactions abound in the geology of Earth, in the atmosphere and oceans, and in a vast array of complicated processes that occur in all living systems.\\n \\n Chemical reactions must be distinguished from physical changes. Physical changes include changes of state, such as ice melting to water and water evaporating to vapour. If a physical change occurs, the physical properties of a substance will change, but its chemical identity will remain the same. No matter what its physical state, water (H2O) is the same compound, with each molecule composed of two atoms of hydrogen and one atom of oxygen. However, if water, as ice, liquid, or vapour, encounters sodium metal (Na), the atoms will be redistributed to give the new substances molecular hydrogen (H2) and sodium hydroxide (NaOH). By this, we know that a chemical change or reaction has occurred.\\n \\n'"
      ]
     },
     "execution_count": 4,
     "metadata": {},
     "output_type": "execute_result"
    }
   ],
   "source": [
    "text"
   ]
  },
  {
   "cell_type": "code",
   "execution_count": 5,
   "metadata": {},
   "outputs": [],
   "source": [
    #Change w and k accordingly for different results
    "tt = TextTilingTokenizer(\n",
    "w=20, # Pseudosentence size\n", 
    "k=10, # Size(in sentences) of block used in comparison\n",
    "similarity_method=0,\n",
    "stopwords=None,\n",
    "smoothing_width=2,\n",
    "smoothing_rounds=2,\n",
    "cutoff_policy=1,\n",
    "demo_mode=False\n",
    ")"
   ]
  },
  {
   "cell_type": "code",
   "execution_count": 6,
   "metadata": {},
   "outputs": [],
   "source": [
    "segments = tt.tokenize(text)"
   ]
  },
  {
   "cell_type": "code",
   "execution_count": 7,
   "metadata": {},
   "outputs": [
    {
     "data": {
      "text/plain": [
       "['Chemical reaction, a process in which one or more substances, the reactants, are converted to one or more different substances, the products. Substances are either chemical elements or compounds. A chemical reaction rearranges the constituent atoms of the reactants to create different substances as products.',\n",
       " '\\n \\n Chemical reactions are an integral part of technology, of culture, and indeed of life itself. Burning fuels, smelting iron, making glass and pottery, brewing beer, and making wine and cheese are among many examples of activities incorporating chemical reactions that have been known and used for thousands of years. Chemical reactions abound in the geology of Earth, in the atmosphere and oceans, and in a vast array of complicated processes that occur in all living systems.',\n",
       " '\\n \\n Chemical reactions must be distinguished from physical changes. Physical changes include changes of state, such as ice melting to water and water evaporating to vapour. If a physical change occurs, the physical properties of a substance will change, but its chemical identity will remain the same. No matter what its physical state, water (H2O) is the same compound, with each molecule composed of two atoms of hydrogen and one atom of oxygen. However, if water, as ice, liquid, or vapour, encounters sodium metal (Na), the atoms will be redistributed to give the new substances molecular hydrogen (H2) and sodium hydroxide (NaOH). By this, we know that a chemical change or reaction has occurred.\\n \\n']"
      ]
     },
     "execution_count": 7,
     "metadata": {},
     "output_type": "execute_result"
    }
   ],
   "source": [
    "segments"
   ]
  },
  {
   "cell_type": "code",
   "execution_count": null,
   "metadata": {},
   "outputs": [],
   "source": []
  }
 ],
 "metadata": {
  "kernelspec": {
   "display_name": "Python 3",
   "language": "python",
   "name": "python3"
  },
  "language_info": {
   "codemirror_mode": {
    "name": "ipython",
    "version": 3
   },
   "file_extension": ".py",
   "mimetype": "text/x-python",
   "name": "python",
   "nbconvert_exporter": "python",
   "pygments_lexer": "ipython3",
   "version": "3.7.1"
  }
 },
 "nbformat": 4,
 "nbformat_minor": 2
}
